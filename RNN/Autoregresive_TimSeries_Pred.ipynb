{
  "nbformat": 4,
  "nbformat_minor": 0,
  "metadata": {
    "colab": {
      "name": "Untitled10.ipynb",
      "provenance": []
    },
    "kernelspec": {
      "name": "python3",
      "display_name": "Python 3"
    }
  },
  "cells": [
    {
      "cell_type": "code",
      "metadata": {
        "colab": {
          "base_uri": "https://localhost:8080/"
        },
        "id": "imcplFen9jC9",
        "outputId": "b1224dac-7a72-46f0-e898-25ce2790b972"
      },
      "source": [
        "# Install TensorFlow\r\n",
        "# !pip install -q tensorflow-gpu==2.0.0-beta1\r\n",
        "\r\n",
        "try:\r\n",
        "  %tensorflow_version 2.x  # Colab only.\r\n",
        "except Exception:\r\n",
        "  pass\r\n",
        "\r\n",
        "import tensorflow as tf\r\n",
        "print(tf.__version__)"
      ],
      "execution_count": 1,
      "outputs": [
        {
          "output_type": "stream",
          "text": [
            "`%tensorflow_version` only switches the major version: 1.x or 2.x.\n",
            "You set: `2.x  # Colab only.`. This will be interpreted as: `2.x`.\n",
            "\n",
            "\n",
            "TensorFlow 2.x selected.\n",
            "2.4.1\n"
          ],
          "name": "stdout"
        }
      ]
    },
    {
      "cell_type": "code",
      "metadata": {
        "id": "4Y8wZQfk9lvT"
      },
      "source": [
        "from tensorflow.keras.layers import Input, Dense\r\n",
        "from tensorflow.keras.models import Model\r\n",
        "from tensorflow.keras.optimizers import SGD, Adam\r\n",
        "\r\n",
        "import numpy as np\r\n",
        "import pandas as pd\r\n",
        "import matplotlib.pyplot as plt"
      ],
      "execution_count": 2,
      "outputs": []
    },
    {
      "cell_type": "code",
      "metadata": {
        "colab": {
          "base_uri": "https://localhost:8080/",
          "height": 265
        },
        "id": "Yf7LJT2o9pzQ",
        "outputId": "03570c14-b495-427d-d3f1-91df907e1af6"
      },
      "source": [
        "series = np.sin(0.1*np.arange(200)) + np.random.randn(200)*0.1\r\n",
        "\r\n",
        "# plot it\r\n",
        "plt.plot(series)\r\n",
        "plt.show()"
      ],
      "execution_count": 45,
      "outputs": [
        {
          "output_type": "display_data",
          "data": {
            "image/png": "[encoded data removed]",
            "text/plain": [
              "<Figure size 432x288 with 1 Axes>"
            ]
          },
          "metadata": {
            "tags": [],
            "needs_background": "light"
          }
        }
      ]
    },
    {
      "cell_type": "code",
      "metadata": {
        "id": "t-zSdzIi9vd7"
      },
      "source": [
        "#### se crea el set de datos \r\n",
        "#### ejemplor si tengo 200 puntos en el tiempo tendre 200 - (ventana) + 1\r\n",
        "#### si quiero usar t-20 tendre 181 ventanas de tiempo\r\n",
        "#### desde la 21 hasta la 200"
      ],
      "execution_count": 46,
      "outputs": []
    },
    {
      "cell_type": "code",
      "metadata": {
        "colab": {
          "base_uri": "https://localhost:8080/"
        },
        "id": "1yYTqHah-ZKC",
        "outputId": "552e8eef-5713-4a1a-e54c-7432c48ff199"
      },
      "source": [
        "T = 10\r\n",
        "X = []\r\n",
        "Y = []\r\n",
        "\r\n",
        "for t in range(len(series)-T):\r\n",
        "\r\n",
        "  x = series[t:T+t]\r\n",
        "  X.append(x)\r\n",
        "  y = series[T+t]\r\n",
        "  Y.append(y)\r\n",
        "\r\n",
        "X = np.array(X).reshape(-1,T)\r\n",
        "Y = np.array(Y)\r\n",
        "\r\n",
        "print(\"X.shape\", X.shape, \"Y.shape\", Y.shape)"
      ],
      "execution_count": 47,
      "outputs": [
        {
          "output_type": "stream",
          "text": [
            "X.shape (190, 10) Y.shape (190,)\n"
          ],
          "name": "stdout"
        }
      ]
    },
    {
      "cell_type": "code",
      "metadata": {
        "id": "ORLOek3mBeQw"
      },
      "source": [
        ""
      ],
      "execution_count": 47,
      "outputs": []
    },
    {
      "cell_type": "code",
      "metadata": {
        "colab": {
          "base_uri": "https://localhost:8080/"
        },
        "id": "yQJcijNw_i74",
        "outputId": "b77d6de1-643e-4203-ac7f-34bcd7bc2b5c"
      },
      "source": [
        "i = Input(shape=(T,))\r\n",
        "x = Dense(1)(i)\r\n",
        "\r\n",
        "model = Model(i,x)\r\n",
        "\r\n",
        "model.compile(loss = 'mse',optimizer = Adam(lr = 0.1))\r\n",
        "\r\n",
        "X_train, Y_train = X[:int(190*0.5)],Y[:int(190*0.5)]\r\n",
        "X_test, Y_test = X[int(190*0.5):],Y[int(190*0.5):]\r\n",
        "\r\n",
        "print(\"X_train\", X_train.shape, \"Y_train.shape\", Y_train.shape)\r\n",
        "\r\n",
        "print(\"X_test\", X_test.shape, \"y_test.shape\", Y_test.shape)"
      ],
      "execution_count": 48,
      "outputs": [
        {
          "output_type": "stream",
          "text": [
            "X_train (95, 10) Y_train.shape (95,)\n",
            "X_test (95, 10) y_test.shape (95,)\n"
          ],
          "name": "stdout"
        }
      ]
    },
    {
      "cell_type": "code",
      "metadata": {
        "colab": {
          "base_uri": "https://localhost:8080/"
        },
        "id": "KISm-ms8BTf3",
        "outputId": "3d10fad3-a520-4f9c-934c-a028a19e9eb1"
      },
      "source": [
        "r = model.fit(X_train,Y_train, validation_data=(X_test,Y_test),epochs = 100)"
      ],
      "execution_count": 49,
      "outputs": [
        {
          "output_type": "stream",
          "text": [
            "Epoch 1/100\n",
            "3/3 [==============================] - 0s 67ms/step - loss: 0.7899 - val_loss: 0.4416\n",
            "Epoch 2/100\n",
            "3/3 [==============================] - 0s 20ms/step - loss: 0.3746 - val_loss: 0.1686\n",
            "Epoch 3/100\n",
            "3/3 [==============================] - 0s 20ms/step - loss: 0.1563 - val_loss: 0.0561\n",
            "Epoch 4/100\n",
            "3/3 [==============================] - 0s 19ms/step - loss: 0.0427 - val_loss: 0.0780\n",
            "Epoch 5/100\n",
            "3/3 [==============================] - 0s 20ms/step - loss: 0.0776 - val_loss: 0.0638\n",
            "Epoch 6/100\n",
            "3/3 [==============================] - 0s 20ms/step - loss: 0.0718 - val_loss: 0.1316\n",
            "Epoch 7/100\n",
            "3/3 [==============================] - 0s 22ms/step - loss: 0.1001 - val_loss: 0.0740\n",
            "Epoch 8/100\n",
            "3/3 [==============================] - 0s 21ms/step - loss: 0.0694 - val_loss: 0.0493\n",
            "Epoch 9/100\n",
            "3/3 [==============================] - 0s 20ms/step - loss: 0.0434 - val_loss: 0.0290\n",
            "Epoch 10/100\n",
            "3/3 [==============================] - 0s 23ms/step - loss: 0.0303 - val_loss: 0.0244\n",
            "Epoch 11/100\n",
            "3/3 [==============================] - 0s 23ms/step - loss: 0.0219 - val_loss: 0.0315\n",
            "Epoch 12/100\n",
            "3/3 [==============================] - 0s 20ms/step - loss: 0.0285 - val_loss: 0.0304\n",
            "Epoch 13/100\n",
            "3/3 [==============================] - 0s 21ms/step - loss: 0.0275 - val_loss: 0.0298\n",
            "Epoch 14/100\n",
            "3/3 [==============================] - 0s 21ms/step - loss: 0.0275 - val_loss: 0.0246\n",
            "Epoch 15/100\n",
            "3/3 [==============================] - 0s 23ms/step - loss: 0.0224 - val_loss: 0.0216\n",
            "Epoch 16/100\n",
            "3/3 [==============================] - 0s 21ms/step - loss: 0.0172 - val_loss: 0.0210\n",
            "Epoch 17/100\n",
            "3/3 [==============================] - 0s 20ms/step - loss: 0.0210 - val_loss: 0.0211\n",
            "Epoch 18/100\n",
            "3/3 [==============================] - 0s 20ms/step - loss: 0.0196 - val_loss: 0.0210\n",
            "Epoch 19/100\n",
            "3/3 [==============================] - 0s 21ms/step - loss: 0.0200 - val_loss: 0.0202\n",
            "Epoch 20/100\n",
            "3/3 [==============================] - 0s 23ms/step - loss: 0.0168 - val_loss: 0.0197\n",
            "Epoch 21/100\n",
            "3/3 [==============================] - 0s 22ms/step - loss: 0.0187 - val_loss: 0.0192\n",
            "Epoch 22/100\n",
            "3/3 [==============================] - 0s 20ms/step - loss: 0.0174 - val_loss: 0.0190\n",
            "Epoch 23/100\n",
            "3/3 [==============================] - 0s 21ms/step - loss: 0.0166 - val_loss: 0.0194\n",
            "Epoch 24/100\n",
            "3/3 [==============================] - 0s 21ms/step - loss: 0.0165 - val_loss: 0.0189\n",
            "Epoch 25/100\n",
            "3/3 [==============================] - 0s 23ms/step - loss: 0.0162 - val_loss: 0.0183\n",
            "Epoch 26/100\n",
            "3/3 [==============================] - 0s 22ms/step - loss: 0.0162 - val_loss: 0.0177\n",
            "Epoch 27/100\n",
            "3/3 [==============================] - 0s 21ms/step - loss: 0.0165 - val_loss: 0.0178\n",
            "Epoch 28/100\n",
            "3/3 [==============================] - 0s 24ms/step - loss: 0.0125 - val_loss: 0.0185\n",
            "Epoch 29/100\n",
            "3/3 [==============================] - 0s 20ms/step - loss: 0.0189 - val_loss: 0.0171\n",
            "Epoch 30/100\n",
            "3/3 [==============================] - 0s 94ms/step - loss: 0.0153 - val_loss: 0.0170\n",
            "Epoch 31/100\n",
            "3/3 [==============================] - 0s 20ms/step - loss: 0.0177 - val_loss: 0.0177\n",
            "Epoch 32/100\n",
            "3/3 [==============================] - 0s 21ms/step - loss: 0.0165 - val_loss: 0.0182\n",
            "Epoch 33/100\n",
            "3/3 [==============================] - 0s 23ms/step - loss: 0.0176 - val_loss: 0.0168\n",
            "Epoch 34/100\n",
            "3/3 [==============================] - 0s 20ms/step - loss: 0.0155 - val_loss: 0.0163\n",
            "Epoch 35/100\n",
            "3/3 [==============================] - 0s 20ms/step - loss: 0.0151 - val_loss: 0.0162\n",
            "Epoch 36/100\n",
            "3/3 [==============================] - 0s 26ms/step - loss: 0.0152 - val_loss: 0.0163\n",
            "Epoch 37/100\n",
            "3/3 [==============================] - 0s 21ms/step - loss: 0.0166 - val_loss: 0.0161\n",
            "Epoch 38/100\n",
            "3/3 [==============================] - 0s 22ms/step - loss: 0.0153 - val_loss: 0.0158\n",
            "Epoch 39/100\n",
            "3/3 [==============================] - 0s 20ms/step - loss: 0.0139 - val_loss: 0.0156\n",
            "Epoch 40/100\n",
            "3/3 [==============================] - 0s 21ms/step - loss: 0.0157 - val_loss: 0.0158\n",
            "Epoch 41/100\n",
            "3/3 [==============================] - 0s 23ms/step - loss: 0.0146 - val_loss: 0.0154\n",
            "Epoch 42/100\n",
            "3/3 [==============================] - 0s 21ms/step - loss: 0.0129 - val_loss: 0.0157\n",
            "Epoch 43/100\n",
            "3/3 [==============================] - 0s 21ms/step - loss: 0.0146 - val_loss: 0.0162\n",
            "Epoch 44/100\n",
            "3/3 [==============================] - 0s 21ms/step - loss: 0.0147 - val_loss: 0.0160\n",
            "Epoch 45/100\n",
            "3/3 [==============================] - 0s 21ms/step - loss: 0.0137 - val_loss: 0.0157\n",
            "Epoch 46/100\n",
            "3/3 [==============================] - 0s 21ms/step - loss: 0.0144 - val_loss: 0.0157\n",
            "Epoch 47/100\n",
            "3/3 [==============================] - 0s 22ms/step - loss: 0.0163 - val_loss: 0.0148\n",
            "Epoch 48/100\n",
            "3/3 [==============================] - 0s 20ms/step - loss: 0.0151 - val_loss: 0.0151\n",
            "Epoch 49/100\n",
            "3/3 [==============================] - 0s 23ms/step - loss: 0.0136 - val_loss: 0.0168\n",
            "Epoch 50/100\n",
            "3/3 [==============================] - 0s 21ms/step - loss: 0.0156 - val_loss: 0.0155\n",
            "Epoch 51/100\n",
            "3/3 [==============================] - 0s 21ms/step - loss: 0.0151 - val_loss: 0.0150\n",
            "Epoch 52/100\n",
            "3/3 [==============================] - 0s 24ms/step - loss: 0.0148 - val_loss: 0.0146\n",
            "Epoch 53/100\n",
            "3/3 [==============================] - 0s 27ms/step - loss: 0.0133 - val_loss: 0.0145\n",
            "Epoch 54/100\n",
            "3/3 [==============================] - 0s 23ms/step - loss: 0.0134 - val_loss: 0.0146\n",
            "Epoch 55/100\n",
            "3/3 [==============================] - 0s 22ms/step - loss: 0.0138 - val_loss: 0.0146\n",
            "Epoch 56/100\n",
            "3/3 [==============================] - 0s 21ms/step - loss: 0.0155 - val_loss: 0.0147\n",
            "Epoch 57/100\n",
            "3/3 [==============================] - 0s 22ms/step - loss: 0.0129 - val_loss: 0.0146\n",
            "Epoch 58/100\n",
            "3/3 [==============================] - 0s 23ms/step - loss: 0.0151 - val_loss: 0.0143\n",
            "Epoch 59/100\n",
            "3/3 [==============================] - 0s 24ms/step - loss: 0.0144 - val_loss: 0.0146\n",
            "Epoch 60/100\n",
            "3/3 [==============================] - 0s 22ms/step - loss: 0.0151 - val_loss: 0.0146\n",
            "Epoch 61/100\n",
            "3/3 [==============================] - 0s 22ms/step - loss: 0.0130 - val_loss: 0.0153\n",
            "Epoch 62/100\n",
            "3/3 [==============================] - 0s 21ms/step - loss: 0.0152 - val_loss: 0.0154\n",
            "Epoch 63/100\n",
            "3/3 [==============================] - 0s 20ms/step - loss: 0.0165 - val_loss: 0.0149\n",
            "Epoch 64/100\n",
            "3/3 [==============================] - 0s 21ms/step - loss: 0.0153 - val_loss: 0.0142\n",
            "Epoch 65/100\n",
            "3/3 [==============================] - 0s 22ms/step - loss: 0.0160 - val_loss: 0.0144\n",
            "Epoch 66/100\n",
            "3/3 [==============================] - 0s 25ms/step - loss: 0.0148 - val_loss: 0.0150\n",
            "Epoch 67/100\n",
            "3/3 [==============================] - 0s 22ms/step - loss: 0.0143 - val_loss: 0.0155\n",
            "Epoch 68/100\n",
            "3/3 [==============================] - 0s 25ms/step - loss: 0.0153 - val_loss: 0.0159\n",
            "Epoch 69/100\n",
            "3/3 [==============================] - 0s 24ms/step - loss: 0.0160 - val_loss: 0.0142\n",
            "Epoch 70/100\n",
            "3/3 [==============================] - 0s 25ms/step - loss: 0.0152 - val_loss: 0.0142\n",
            "Epoch 71/100\n",
            "3/3 [==============================] - 0s 23ms/step - loss: 0.0139 - val_loss: 0.0147\n",
            "Epoch 72/100\n",
            "3/3 [==============================] - 0s 22ms/step - loss: 0.0150 - val_loss: 0.0151\n",
            "Epoch 73/100\n",
            "3/3 [==============================] - 0s 26ms/step - loss: 0.0155 - val_loss: 0.0143\n",
            "Epoch 74/100\n",
            "3/3 [==============================] - 0s 22ms/step - loss: 0.0147 - val_loss: 0.0149\n",
            "Epoch 75/100\n",
            "3/3 [==============================] - 0s 22ms/step - loss: 0.0140 - val_loss: 0.0145\n",
            "Epoch 76/100\n",
            "3/3 [==============================] - 0s 84ms/step - loss: 0.0141 - val_loss: 0.0146\n",
            "Epoch 77/100\n",
            "3/3 [==============================] - 0s 22ms/step - loss: 0.0148 - val_loss: 0.0145\n",
            "Epoch 78/100\n",
            "3/3 [==============================] - 0s 23ms/step - loss: 0.0151 - val_loss: 0.0149\n",
            "Epoch 79/100\n",
            "3/3 [==============================] - 0s 23ms/step - loss: 0.0152 - val_loss: 0.0142\n",
            "Epoch 80/100\n",
            "3/3 [==============================] - 0s 22ms/step - loss: 0.0153 - val_loss: 0.0142\n",
            "Epoch 81/100\n",
            "3/3 [==============================] - 0s 23ms/step - loss: 0.0135 - val_loss: 0.0157\n",
            "Epoch 82/100\n",
            "3/3 [==============================] - 0s 25ms/step - loss: 0.0151 - val_loss: 0.0149\n",
            "Epoch 83/100\n",
            "3/3 [==============================] - 0s 23ms/step - loss: 0.0168 - val_loss: 0.0144\n",
            "Epoch 84/100\n",
            "3/3 [==============================] - 0s 23ms/step - loss: 0.0135 - val_loss: 0.0150\n",
            "Epoch 85/100\n",
            "3/3 [==============================] - 0s 23ms/step - loss: 0.0141 - val_loss: 0.0152\n",
            "Epoch 86/100\n",
            "3/3 [==============================] - 0s 21ms/step - loss: 0.0159 - val_loss: 0.0156\n",
            "Epoch 87/100\n",
            "3/3 [==============================] - 0s 22ms/step - loss: 0.0137 - val_loss: 0.0163\n",
            "Epoch 88/100\n",
            "3/3 [==============================] - 0s 21ms/step - loss: 0.0163 - val_loss: 0.0157\n",
            "Epoch 89/100\n",
            "3/3 [==============================] - 0s 22ms/step - loss: 0.0146 - val_loss: 0.0151\n",
            "Epoch 90/100\n",
            "3/3 [==============================] - 0s 23ms/step - loss: 0.0131 - val_loss: 0.0157\n",
            "Epoch 91/100\n",
            "3/3 [==============================] - 0s 22ms/step - loss: 0.0147 - val_loss: 0.0150\n",
            "Epoch 92/100\n",
            "3/3 [==============================] - 0s 20ms/step - loss: 0.0135 - val_loss: 0.0164\n",
            "Epoch 93/100\n",
            "3/3 [==============================] - 0s 21ms/step - loss: 0.0176 - val_loss: 0.0144\n",
            "Epoch 94/100\n",
            "3/3 [==============================] - 0s 21ms/step - loss: 0.0137 - val_loss: 0.0141\n",
            "Epoch 95/100\n",
            "3/3 [==============================] - 0s 24ms/step - loss: 0.0127 - val_loss: 0.0141\n",
            "Epoch 96/100\n",
            "3/3 [==============================] - 0s 22ms/step - loss: 0.0130 - val_loss: 0.0147\n",
            "Epoch 97/100\n",
            "3/3 [==============================] - 0s 22ms/step - loss: 0.0152 - val_loss: 0.0143\n",
            "Epoch 98/100\n",
            "3/3 [==============================] - 0s 25ms/step - loss: 0.0142 - val_loss: 0.0147\n",
            "Epoch 99/100\n",
            "3/3 [==============================] - 0s 23ms/step - loss: 0.0127 - val_loss: 0.0159\n",
            "Epoch 100/100\n",
            "3/3 [==============================] - 0s 22ms/step - loss: 0.0181 - val_loss: 0.0140\n"
          ],
          "name": "stdout"
        }
      ]
    },
    {
      "cell_type": "code",
      "metadata": {
        "colab": {
          "base_uri": "https://localhost:8080/",
          "height": 282
        },
        "id": "gEcW6CLAB18A",
        "outputId": "627493e7-d110-4856-c911-c5bc28d7c1bc"
      },
      "source": [
        "import matplotlib.pyplot as plt\r\n",
        "plt.plot(r.history['loss'], label='loss')\r\n",
        "plt.plot(r.history['val_loss'], label='val_loss')\r\n",
        "plt.legend()"
      ],
      "execution_count": 50,
      "outputs": [
        {
          "output_type": "execute_result",
          "data": {
            "text/plain": [
              "<matplotlib.legend.Legend at 0x7f2695190d30>"
            ]
          },
          "metadata": {
            "tags": []
          },
          "execution_count": 50
        },
        {
          "output_type": "display_data",
          "data": {
            "image/png": "[encoded data removed]",
            "text/plain": [
              "<Figure size 432x288 with 1 Axes>"
            ]
          },
          "metadata": {
            "tags": [],
            "needs_background": "light"
          }
        }
      ]
    },
    {
      "cell_type": "code",
      "metadata": {
        "id": "tbEiUGKXCC0P"
      },
      "source": [
        "####### forma incorrecta de hacer la prediccion\r\n",
        "\r\n",
        "datos_forecast = Y_test.copy()\r\n",
        "predicciones = []\r\n",
        "\r\n",
        "for a in range(int(len(Y)*0.5), len(Y)-1):\r\n",
        "\r\n",
        "\r\n",
        "\r\n",
        "  predicciones.append(model.predict(X[a].reshape(1,-1))[0])\r\n",
        "  "
      ],
      "execution_count": 51,
      "outputs": []
    },
    {
      "cell_type": "code",
      "metadata": {
        "id": "o45MAcJ3Dvuj"
      },
      "source": [
        "predicciones = np.array(predicciones).flatten()\r\n"
      ],
      "execution_count": 52,
      "outputs": []
    },
    {
      "cell_type": "code",
      "metadata": {
        "colab": {
          "base_uri": "https://localhost:8080/",
          "height": 282
        },
        "id": "eLfW1168DxPC",
        "outputId": "52379b9b-c1c4-4f52-8bb2-2298b48b6b10"
      },
      "source": [
        "plt.plot(datos_forecast, label='forecast target')\r\n",
        "plt.plot(predicciones, label='forecast prediction')\r\n",
        "plt.legend()"
      ],
      "execution_count": 53,
      "outputs": [
        {
          "output_type": "execute_result",
          "data": {
            "text/plain": [
              "<matplotlib.legend.Legend at 0x7f2694f4c978>"
            ]
          },
          "metadata": {
            "tags": []
          },
          "execution_count": 53
        },
        {
          "output_type": "display_data",
          "data": {
            "image/png": "[encoded data removed]",
            "text/plain": [
              "<Figure size 432x288 with 1 Axes>"
            ]
          },
          "metadata": {
            "tags": [],
            "needs_background": "light"
          }
        }
      ]
    },
    {
      "cell_type": "code",
      "metadata": {
        "id": "NILFtcCIFODE"
      },
      "source": [
        "####### forma correcta de hacer la prediccion\r\n",
        "\r\n",
        "datos_forecast = Y_test.copy()\r\n",
        "predicciones = []\r\n",
        "\r\n",
        "x_pred = X[int(len(Y)*0.5)]\r\n",
        "\r\n",
        "for a in range(int(len(Y)*0.5), len(Y)-1):\r\n",
        "\r\n",
        "\r\n",
        "  p = model.predict(x_pred.reshape(1,-1))[0]\r\n",
        "  predicciones.append(p)\r\n",
        "\r\n",
        "  x_pred = np.roll(x_pred, -1)\r\n",
        "  x_pred[-1] = p\r\n",
        "  "
      ],
      "execution_count": 54,
      "outputs": []
    },
    {
      "cell_type": "code",
      "metadata": {
        "colab": {
          "base_uri": "https://localhost:8080/",
          "height": 282
        },
        "id": "1iQ1eZG-3qug",
        "outputId": "dba1c19d-820a-4666-f3f2-5f2168cc0b24"
      },
      "source": [
        "plt.plot(datos_forecast, label='forecast target')\r\n",
        "plt.plot(predicciones, label='forecast prediction')\r\n",
        "plt.legend()"
      ],
      "execution_count": 55,
      "outputs": [
        {
          "output_type": "execute_result",
          "data": {
            "text/plain": [
              "<matplotlib.legend.Legend at 0x7f2694f73a58>"
            ]
          },
          "metadata": {
            "tags": []
          },
          "execution_count": 55
        },
        {
          "output_type": "display_data",
          "data": {
            "image/png": "[encoded data removed]",
            "text/plain": [
              "<Figure size 432x288 with 1 Axes>"
            ]
          },
          "metadata": {
            "tags": [],
            "needs_background": "light"
          }
        }
      ]
    },
    {
      "cell_type": "code",
      "metadata": {
        "id": "pIlUYaCb3vhY"
      },
      "source": [
        ""
      ],
      "execution_count": null,
      "outputs": []
    }
  ]
}