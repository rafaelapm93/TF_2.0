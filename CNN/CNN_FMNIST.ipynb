{
  "nbformat": 4,
  "nbformat_minor": 0,
  "metadata": {
    "colab": {
      "name": "Untitled7.ipynb",
      "provenance": []
    },
    "kernelspec": {
      "name": "python3",
      "display_name": "Python 3"
    }
  },
  "cells": [
    {
      "cell_type": "code",
      "metadata": {
        "colab": {
          "base_uri": "https://localhost:8080/"
        },
        "id": "vR6ma435JmFI",
        "outputId": "21eaab66-808a-4335-93cb-ae384d9e9670"
      },
      "source": [
        "# Install TensorFlow\r\n",
        "# !pip install -q tensorflow-gpu==2.0.0-beta1\r\n",
        "\r\n",
        "try:\r\n",
        "  %tensorflow_version 2.x  # Colab only.\r\n",
        "except Exception:\r\n",
        "  pass\r\n",
        "\r\n",
        "import tensorflow as tf\r\n",
        "print(tf.__version__)"
      ],
      "execution_count": 1,
      "outputs": [
        {
          "output_type": "stream",
          "text": [
            "`%tensorflow_version` only switches the major version: 1.x or 2.x.\n",
            "You set: `2.x  # Colab only.`. This will be interpreted as: `2.x`.\n",
            "\n",
            "\n",
            "TensorFlow 2.x selected.\n",
            "2.4.1\n"
          ],
          "name": "stdout"
        }
      ]
    },
    {
      "cell_type": "code",
      "metadata": {
        "id": "W8SeEcldJp-v"
      },
      "source": [
        "\r\n",
        "import numpy as np\r\n",
        "import matplotlib.pyplot as plt\r\n",
        "from tensorflow.keras.layers import Input, Conv2D, Dense, Flatten, Dropout\r\n",
        "from tensorflow.keras.models import Model"
      ],
      "execution_count": 3,
      "outputs": []
    },
    {
      "cell_type": "code",
      "metadata": {
        "id": "MkcpDfkgJsXv"
      },
      "source": [
        "fashion_mnist = tf.keras.datasets.fashion_mnist"
      ],
      "execution_count": 4,
      "outputs": []
    },
    {
      "cell_type": "code",
      "metadata": {
        "colab": {
          "base_uri": "https://localhost:8080/"
        },
        "id": "jljghsq4J4d-",
        "outputId": "773ada2c-376d-466e-d0d9-d3d55582e55f"
      },
      "source": [
        "(X_train,y_train),(X_test,y_test) = fashion_mnist.load_data()\r\n",
        "X_train,X_test = X_train/255,X_test/255\r\n",
        "X_train.shape"
      ],
      "execution_count": 5,
      "outputs": [
        {
          "output_type": "stream",
          "text": [
            "Downloading data from https://storage.googleapis.com/tensorflow/tf-keras-datasets/train-labels-idx1-ubyte.gz\n",
            "32768/29515 [=================================] - 0s 0us/step\n",
            "Downloading data from https://storage.googleapis.com/tensorflow/tf-keras-datasets/train-images-idx3-ubyte.gz\n",
            "26427392/26421880 [==============================] - 0s 0us/step\n",
            "Downloading data from https://storage.googleapis.com/tensorflow/tf-keras-datasets/t10k-labels-idx1-ubyte.gz\n",
            "8192/5148 [===============================================] - 0s 0us/step\n",
            "Downloading data from https://storage.googleapis.com/tensorflow/tf-keras-datasets/t10k-images-idx3-ubyte.gz\n",
            "4423680/4422102 [==============================] - 0s 0us/step\n"
          ],
          "name": "stdout"
        },
        {
          "output_type": "execute_result",
          "data": {
            "text/plain": [
              "(60000, 28, 28)"
            ]
          },
          "metadata": {
            "tags": []
          },
          "execution_count": 5
        }
      ]
    },
    {
      "cell_type": "code",
      "metadata": {
        "colab": {
          "base_uri": "https://localhost:8080/"
        },
        "id": "feoQKfmWKKcn",
        "outputId": "965bcab2-8f11-489c-a8b2-372147eefd06"
      },
      "source": [
        "### para la convulcion X debe tener # dimensiones aca solo tiene dos, agregamos una dimension extra 28X28X1\r\n",
        "\r\n",
        "X_train = np.expand_dims(X_train,-1)\r\n",
        "\r\n",
        "X_test = np.expand_dims(X_test,-1)\r\n",
        "\r\n",
        "X_train.shape"
      ],
      "execution_count": 6,
      "outputs": [
        {
          "output_type": "execute_result",
          "data": {
            "text/plain": [
              "(60000, 28, 28, 1)"
            ]
          },
          "metadata": {
            "tags": []
          },
          "execution_count": 6
        }
      ]
    },
    {
      "cell_type": "code",
      "metadata": {
        "colab": {
          "base_uri": "https://localhost:8080/"
        },
        "id": "a9xfokmcKg1T",
        "outputId": "d3170c05-bdcb-43cc-a3c4-7db48ccaf18a"
      },
      "source": [
        "### obtenemos el tamaño del output \r\n",
        "\r\n",
        "K = len(set(y_train))\r\n",
        "\r\n",
        "print(K,set(y_train))"
      ],
      "execution_count": 7,
      "outputs": [
        {
          "output_type": "stream",
          "text": [
            "10 {0, 1, 2, 3, 4, 5, 6, 7, 8, 9}\n"
          ],
          "name": "stdout"
        }
      ]
    },
    {
      "cell_type": "code",
      "metadata": {
        "id": "9jzlNXJiK6ly"
      },
      "source": [
        "# cosntruccion del modelo\r\n",
        "\r\n",
        "\r\n",
        "i = Input(shape= X_train[0].shape)\r\n",
        "\r\n",
        "x = Conv2D(32,kernel_size=(3,3),strides=2,activation='relu')(i)\r\n",
        "\r\n",
        "x = Conv2D(64,kernel_size=(3,3),strides=2,activation='relu')(x)\r\n",
        "\r\n",
        "x = Conv2D(128,kernel_size=(3,3),strides=2,activation='relu')(x)\r\n",
        "\r\n",
        "x = Flatten()(x)\r\n",
        "\r\n",
        "x = Dense(512,activation='relu')(x)\r\n",
        "\r\n",
        "x = Dropout(0.2)(x)\r\n",
        "\r\n",
        "x = Dense(K,activation='softmax')(x)\r\n",
        "\r\n",
        "model = Model(i,x)"
      ],
      "execution_count": 9,
      "outputs": []
    },
    {
      "cell_type": "code",
      "metadata": {
        "colab": {
          "base_uri": "https://localhost:8080/"
        },
        "id": "XJStsgXwL14o",
        "outputId": "d42f9bf1-4e61-48ee-e95b-cc70d1b3793e"
      },
      "source": [
        "model.compile(optimizer='adam',\r\n",
        "              loss = 'sparse_categorical_crossentropy',\r\n",
        "              metrics = ['accuracy'])\r\n",
        "\r\n",
        "r = model.fit(X_train,y_train,validation_data=(X_test,y_test),epochs=15)"
      ],
      "execution_count": 11,
      "outputs": [
        {
          "output_type": "stream",
          "text": [
            "Epoch 1/15\n",
            "1875/1875 [==============================] - 28s 15ms/step - loss: 0.1351 - accuracy: 0.9474 - val_loss: 0.3815 - val_accuracy: 0.9001\n",
            "Epoch 2/15\n",
            "1875/1875 [==============================] - 27s 15ms/step - loss: 0.1128 - accuracy: 0.9561 - val_loss: 0.3856 - val_accuracy: 0.8966\n",
            "Epoch 3/15\n",
            "1875/1875 [==============================] - 28s 15ms/step - loss: 0.1070 - accuracy: 0.9596 - val_loss: 0.4519 - val_accuracy: 0.8942\n",
            "Epoch 4/15\n",
            "1875/1875 [==============================] - 28s 15ms/step - loss: 0.0947 - accuracy: 0.9635 - val_loss: 0.4329 - val_accuracy: 0.8900\n",
            "Epoch 5/15\n",
            "1875/1875 [==============================] - 28s 15ms/step - loss: 0.0889 - accuracy: 0.9669 - val_loss: 0.4802 - val_accuracy: 0.8963\n",
            "Epoch 6/15\n",
            "1875/1875 [==============================] - 28s 15ms/step - loss: 0.0764 - accuracy: 0.9720 - val_loss: 0.4804 - val_accuracy: 0.8966\n",
            "Epoch 7/15\n",
            "1875/1875 [==============================] - 27s 15ms/step - loss: 0.0768 - accuracy: 0.9715 - val_loss: 0.5107 - val_accuracy: 0.8997\n",
            "Epoch 8/15\n",
            "1875/1875 [==============================] - 28s 15ms/step - loss: 0.0643 - accuracy: 0.9763 - val_loss: 0.5259 - val_accuracy: 0.8952\n",
            "Epoch 9/15\n",
            "1875/1875 [==============================] - 28s 15ms/step - loss: 0.0616 - accuracy: 0.9766 - val_loss: 0.5744 - val_accuracy: 0.8968\n",
            "Epoch 10/15\n",
            "1875/1875 [==============================] - 28s 15ms/step - loss: 0.0580 - accuracy: 0.9781 - val_loss: 0.5602 - val_accuracy: 0.8923\n",
            "Epoch 11/15\n",
            "1875/1875 [==============================] - 28s 15ms/step - loss: 0.0570 - accuracy: 0.9784 - val_loss: 0.6373 - val_accuracy: 0.8975\n",
            "Epoch 12/15\n",
            "1875/1875 [==============================] - 27s 15ms/step - loss: 0.0489 - accuracy: 0.9816 - val_loss: 0.6585 - val_accuracy: 0.8853\n",
            "Epoch 13/15\n",
            "1875/1875 [==============================] - 27s 14ms/step - loss: 0.0529 - accuracy: 0.9798 - val_loss: 0.6707 - val_accuracy: 0.8939\n",
            "Epoch 14/15\n",
            "1875/1875 [==============================] - 27s 15ms/step - loss: 0.0457 - accuracy: 0.9827 - val_loss: 0.6185 - val_accuracy: 0.8964\n",
            "Epoch 15/15\n",
            "1875/1875 [==============================] - 27s 14ms/step - loss: 0.0484 - accuracy: 0.9833 - val_loss: 0.6859 - val_accuracy: 0.8926\n"
          ],
          "name": "stdout"
        }
      ]
    },
    {
      "cell_type": "code",
      "metadata": {
        "colab": {
          "base_uri": "https://localhost:8080/",
          "height": 282
        },
        "id": "VqHBSVsJML9y",
        "outputId": "9c260fd0-5b39-4364-d657-5ba3035b7bb5"
      },
      "source": [
        "import matplotlib.pyplot as plt\r\n",
        "plt.plot(r.history['loss'],label = 'loss')\r\n",
        "plt.plot(r.history['val_loss'],label = 'val_loss')\r\n",
        "plt.legend()"
      ],
      "execution_count": 14,
      "outputs": [
        {
          "output_type": "execute_result",
          "data": {
            "text/plain": [
              "<matplotlib.legend.Legend at 0x7f56f4835cf8>"
            ]
          },
          "metadata": {
            "tags": []
          },
          "execution_count": 14
        },
        {
          "output_type": "display_data",
          "data": {
            "image/png": "[encoded data removed]",
            "text/plain": [
              "<Figure size 432x288 with 1 Axes>"
            ]
          },
          "metadata": {
            "tags": [],
            "needs_background": "light"
          }
        }
      ]
    },
    {
      "cell_type": "code",
      "metadata": {
        "colab": {
          "base_uri": "https://localhost:8080/",
          "height": 282
        },
        "id": "YBk9Xwb0NwWS",
        "outputId": "e8e9099f-ed79-4aa6-d2e6-01ecf48c5e90"
      },
      "source": [
        "plt.plot(r.history['accuracy'],label = 'accuracy')\r\n",
        "plt.plot(r.history['val_accuracy'],label = 'val_accuracy')\r\n",
        "plt.legend()"
      ],
      "execution_count": 16,
      "outputs": [
        {
          "output_type": "execute_result",
          "data": {
            "text/plain": [
              "<matplotlib.legend.Legend at 0x7f56f47ba668>"
            ]
          },
          "metadata": {
            "tags": []
          },
          "execution_count": 16
        },
        {
          "output_type": "display_data",
          "data": {
            "image/png": "[encoded data removed]",
            "text/plain": [
              "<Figure size 432x288 with 1 Axes>"
            ]
          },
          "metadata": {
            "tags": [],
            "needs_background": "light"
          }
        }
      ]
    },
    {
      "cell_type": "code",
      "metadata": {
        "colab": {
          "base_uri": "https://localhost:8080/",
          "height": 498
        },
        "id": "KhciBjLXOBj0",
        "outputId": "8f3dcf38-c9ea-4607-d06d-33a1e7c39939"
      },
      "source": [
        "# Plot confusion matrix\r\n",
        "from sklearn.metrics import confusion_matrix\r\n",
        "import itertools\r\n",
        "\r\n",
        "def plot_confusion_matrix(cm, classes,\r\n",
        "                          normalize=False,\r\n",
        "                          title='Confusion matrix',\r\n",
        "                          cmap=plt.cm.Blues):\r\n",
        "  \"\"\"\r\n",
        "  This function prints and plots the confusion matrix.\r\n",
        "  Normalization can be applied by setting `normalize=True`.\r\n",
        "  \"\"\"\r\n",
        "  if normalize:\r\n",
        "      cm = cm.astype('float') / cm.sum(axis=1)[:, np.newaxis]\r\n",
        "      print(\"Normalized confusion matrix\")\r\n",
        "  else:\r\n",
        "      print('Confusion matrix, without normalization')\r\n",
        "\r\n",
        "  print(cm)\r\n",
        "\r\n",
        "  plt.imshow(cm, interpolation='nearest', cmap=cmap)\r\n",
        "  plt.title(title)\r\n",
        "  plt.colorbar()\r\n",
        "  tick_marks = np.arange(len(classes))\r\n",
        "  plt.xticks(tick_marks, classes, rotation=45)\r\n",
        "  plt.yticks(tick_marks, classes)\r\n",
        "\r\n",
        "  fmt = '.2f' if normalize else 'd'\r\n",
        "  thresh = cm.max() / 2.\r\n",
        "  for i, j in itertools.product(range(cm.shape[0]), range(cm.shape[1])):\r\n",
        "      plt.text(j, i, format(cm[i, j], fmt),\r\n",
        "               horizontalalignment=\"center\",\r\n",
        "               color=\"white\" if cm[i, j] > thresh else \"black\")\r\n",
        "\r\n",
        "  plt.tight_layout()\r\n",
        "  plt.ylabel('True label')\r\n",
        "  plt.xlabel('Predicted label')\r\n",
        "  plt.show()\r\n",
        "\r\n",
        "\r\n",
        "p_test = model.predict(X_test).argmax(axis=1)\r\n",
        "cm = confusion_matrix(y_test, p_test)\r\n",
        "plot_confusion_matrix(cm, list(range(10)))\r\n",
        "\r\n"
      ],
      "execution_count": 18,
      "outputs": [
        {
          "output_type": "stream",
          "text": [
            "Confusion matrix, without normalization\n",
            "[[862   6  24  14   3   2  85   0   4   0]\n",
            " [  7 975   0   9   4   0   2   0   3   0]\n",
            " [ 21   1 865   7  48   0  55   0   3   0]\n",
            " [ 25  11  18 884  34   3  23   0   2   0]\n",
            " [  1   3  87  21 808   0  76   0   4   0]\n",
            " [  0   0   0   0   0 967   0  17   2  14]\n",
            " [118   3  80  18  82   2 685   0  12   0]\n",
            " [  0   0   0   0   0  14   0 955   3  28]\n",
            " [  3   0   5   3   4   2   9   2 972   0]\n",
            " [  0   0   0   0   0   7   1  39   0 953]]\n"
          ],
          "name": "stdout"
        },
        {
          "output_type": "display_data",
          "data": {
            "image/png": "[encoded data removed]",
            "text/plain": [
              "<Figure size 432x288 with 2 Axes>"
            ]
          },
          "metadata": {
            "tags": [],
            "needs_background": "light"
          }
        }
      ]
    },
    {
      "cell_type": "code",
      "metadata": {
        "id": "iO0YdcSMOFde"
      },
      "source": [
        "# Label mapping\r\n",
        "labels = '''T-shirt/top\r\n",
        "Trouser\r\n",
        "Pullover\r\n",
        "Dress\r\n",
        "Coat\r\n",
        "Sandal\r\n",
        "Shirt\r\n",
        "Sneaker\r\n",
        "Bag\r\n",
        "Ankle boot'''.split(\"\\n\")"
      ],
      "execution_count": 19,
      "outputs": []
    },
    {
      "cell_type": "code",
      "metadata": {
        "colab": {
          "base_uri": "https://localhost:8080/",
          "height": 281
        },
        "id": "0X6kktMYOGOk",
        "outputId": "82995e1c-c412-432f-d3dd-79ce2a11c0af"
      },
      "source": [
        "misclassified_idx = np.where(p_test != y_test)[0]\r\n",
        "i = np.random.choice(misclassified_idx)\r\n",
        "plt.imshow(X_test[i].reshape(28,28), cmap='gray')\r\n",
        "plt.title(\"True label: %s Predicted: %s\" % (labels[y_test[i]], labels[p_test[i]]));"
      ],
      "execution_count": 21,
      "outputs": [
        {
          "output_type": "display_data",
          "data": {
            "image/png": "[encoded data removed]",
            "text/plain": [
              "<Figure size 432x288 with 1 Axes>"
            ]
          },
          "metadata": {
            "tags": [],
            "needs_background": "light"
          }
        }
      ]
    },
    {
      "cell_type": "code",
      "metadata": {
        "id": "JljOhd17PLKr"
      },
      "source": [
        ""
      ],
      "execution_count": null,
      "outputs": []
    }
  ]
}